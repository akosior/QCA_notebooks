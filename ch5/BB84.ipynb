{
 "cells": [
  {
   "cell_type": "code",
   "execution_count": 53,
   "metadata": {},
   "outputs": [],
   "source": [
    "import random\n",
    "from qiskit import QuantumCircuit, QuantumRegister, ClassicalRegister\n",
    "from qiskit import transpile\n",
    "from qiskit_aer import Aer\n",
    "\n",
    "NUMBER_OF_CIRCUITS = 40 # 100\n",
    "DOES_EVE_EXIST = False\n",
    "CHECK_MARK = u'\\u2713'\n",
    "\n"
   ]
  },
  {
   "cell_type": "code",
   "execution_count": 20,
   "metadata": {},
   "outputs": [],
   "source": [
    "def create_registers(eve_exists):\n",
    "    alice_q = QuantumRegister(1, name='alice_q')\n",
    "    bob_q   = QuantumRegister(1, name='bob_q')\n",
    "    bob_c   = ClassicalRegister(1, name='bob_c')\n",
    "\n",
    "    if eve_exists:\n",
    "        eve_c = ClassicalRegister(1, name='eve_c')\n",
    "        circ = QuantumCircuit(alice_q, bob_q, bob_c, eve_c)\n",
    "    else:\n",
    "        circ = QuantumCircuit(alice_q, bob_q, bob_c)\n",
    "    return circ"
   ]
  },
  {
   "cell_type": "code",
   "execution_count": 6,
   "metadata": {},
   "outputs": [
    {
     "data": {
      "image/png": "[encoded data removed]",
      "text/plain": [
       "<Figure size 226.175x367.889 with 1 Axes>"
      ]
     },
     "execution_count": 6,
     "metadata": {},
     "output_type": "execute_result"
    }
   ],
   "source": [
    "create_registers(DOES_EVE_EXIST).draw(output='mpl')"
   ]
  },
  {
   "cell_type": "code",
   "execution_count": 21,
   "metadata": {},
   "outputs": [],
   "source": [
    "def setup_alice(circ):\n",
    "    alice_q = circ.qubits[0]\n",
    "\n",
    "    if random.getrandbits(1):\n",
    "        circ.x(alice_q)\n",
    "\n",
    "    if random.getrandbits(1):\n",
    "        circ.h(alice_q)\n",
    "\n",
    "    return circ\n",
    "\n",
    "def setup_bob(circ):\n",
    "    bob_q = circ.qubits[1]\n",
    "    bob_c = circ.clbits[0]\n",
    "\n",
    "    if random.getrandbits(1):\n",
    "        circ.h(bob_q)\n",
    "\n",
    "    circ.measure(bob_q, bob_c)\n",
    "\n",
    "    return circ\n",
    "\n",
    "def setup_eve(circ):\n",
    "    bob_q = circ.qubits[1]\n",
    "    eve_c = circ.clbits[1]\n",
    "\n",
    "    circ.barrier()\n",
    "    circ.measure(bob_q, eve_c)\n",
    "    circ.barrier()\n",
    "\n",
    "    return circ"
   ]
  },
  {
   "cell_type": "code",
   "execution_count": 22,
   "metadata": {},
   "outputs": [],
   "source": [
    "def make_new_circuit(eve_exists):\n",
    "    circ = create_registers(eve_exists)\n",
    "    alice_q = circ.qubits[1]\n",
    "    bob_q = circ.qubits[0]\n",
    "    bob_c = circ.clbits[0]\n",
    "\n",
    "    circ = setup_alice(circ)\n",
    "\n",
    "    circ.swap(alice_q, bob_q)\n",
    "\n",
    "    if eve_exists:\n",
    "        circ = setup_eve(circ)\n",
    "\n",
    "    circ = setup_bob(circ)\n",
    "    \n",
    "    return circ"
   ]
  },
  {
   "cell_type": "code",
   "execution_count": 11,
   "metadata": {},
   "outputs": [
    {
     "data": {
      "image/png": "[encoded data removed]",
      "text/plain": [
       "<Figure size 686.036x367.889 with 1 Axes>"
      ]
     },
     "execution_count": 11,
     "metadata": {},
     "output_type": "execute_result"
    }
   ],
   "source": [
    "make_new_circuit(DOES_EVE_EXIST).draw(output='mpl')"
   ]
  },
  {
   "cell_type": "code",
   "execution_count": 23,
   "metadata": {},
   "outputs": [],
   "source": [
    "def create_circuits(how_many, does_eve_exist):\n",
    "    circuits = []\n",
    "    for i in range(how_many):\n",
    "        circuits.append(make_new_circuit(does_eve_exist))\n",
    "    return circuits"
   ]
  },
  {
   "cell_type": "code",
   "execution_count": 24,
   "metadata": {},
   "outputs": [],
   "source": [
    "def run_the_job(circuits):\n",
    "    device = Aer.get_backend('qasm_simulator')\n",
    "    new_circuits = transpile(circuits, device)\n",
    "    job = device.run(new_circuits,shots=1, memory=True)\n",
    "    return job.result()"
   ]
  },
  {
   "cell_type": "markdown",
   "metadata": {},
   "source": [
    "pp.145: \"To display the zeros and ones that Alice randomly generates, we can check each circuit’s count_ops\n",
    "dictionary for the presence or absence of an X gate:\""
   ]
  },
  {
   "cell_type": "code",
   "execution_count": 57,
   "metadata": {},
   "outputs": [],
   "source": [
    "def print_alice_bits(circuits):\n",
    "    print(\"Alice's bits: \", end='')\n",
    "    for circ in circuits:\n",
    "        bit = 1 if 'x' in circ.count_ops() else 0\n",
    "        print(bit, end='')\n",
    "    print('')\n",
    "\n",
    "def bob_bit_value(circ, memory):\n",
    "    return memory[0][0]\n",
    "\n",
    "def alice_bit_value(circ):\n",
    "    return 1 if 'x' in circ.count_ops() else 0\n",
    "\n",
    "def print_bob_bits(circuits, results):\n",
    "    print(\"bob bits  :   \", end='')\n",
    "    for circ in circuits:\n",
    "        memory = results.get_memory(circ)\n",
    "        print(bob_bit_value(circ, memory), end='')\n",
    "    print('')\n",
    "\n",
    "def had_agreement(circ):\n",
    "    gate_counts = circ.count_ops()\n",
    "    return not ('h' in gate_counts and gate_counts['h'] == 1)\n",
    "\n",
    "def print_had_agreements(circuits):\n",
    "    number_of_agreements = 0\n",
    "    print('hads agree? ', end='')\n",
    "    for circ in circuits:\n",
    "        if had_agreement(circ):\n",
    "            print(CHECK_MARK, end='')\n",
    "            number_of_agreements += 1\n",
    "        else:\n",
    "            print(' ', end='')\n",
    "    print('')\n",
    "    return number_of_agreements\n",
    "\n"
   ]
  },
  {
   "cell_type": "code",
   "execution_count": 59,
   "metadata": {},
   "outputs": [],
   "source": [
    "def bit_value_agreement(circ, results):\n",
    "    memory = results.get_memory(circ)\n",
    "    return alice_bit_value(circ) == int(bob_bit_value(circ, memory))\n",
    "\n",
    "def print_bit_agreements(circuits, results, number_of_agreements):\n",
    "    number_tested = 0\n",
    "    is_eve_detected = False\n",
    "    i = 0\n",
    "\n",
    "    print('bits agree? ', end='')\n",
    "    while number_tested < number_of_agreements // 2:\n",
    "        if had_agreement(circuits[i]):\n",
    "            if bit_value_agreement (circuits[i], results):\n",
    "                print(CHECK_MARK, end='')\n",
    "                number_tested += 1\n",
    "            else:\n",
    "                is_eve_detected = True\n",
    "                print('X')\n",
    "                break\n",
    "        else:\n",
    "            print(' ', end='')\n",
    "        i += 1\n",
    "\n",
    "    print('')\n",
    "\n",
    "    return i, is_eve_detected"
   ]
  },
  {
   "cell_type": "code",
   "execution_count": 61,
   "metadata": {},
   "outputs": [],
   "source": [
    "def print_key(circuits, number_of_circuits, how_many_for_testing):\n",
    "    print('key       : ', end='')\n",
    "    for i in range(how_many_for_testing + 1):\n",
    "        print(' ', end='')\n",
    "    for i in range(i, number_of_circuits): \n",
    "        if had_agreement(circuits[i]):\n",
    "            print(alice_bit_value(circuits[i]), end='')\n",
    "        else:\n",
    "            print(' ', end='')"
   ]
  },
  {
   "cell_type": "code",
   "execution_count": 62,
   "metadata": {},
   "outputs": [
    {
     "name": "stdout",
     "output_type": "stream",
     "text": [
      "Alice's bits: 0011010000100001100001101011101001110111\n",
      "bob bits  :   1111110001100001010101101111101000110111\n",
      "hads agree?      ✓✓    ✓ ✓✓   ✓ ✓ ✓✓✓ ✓✓ ✓✓✓✓ ✓   ✓✓\n",
      "bits agree?      ✓✓    ✓ ✓✓   ✓ ✓ ✓✓\n",
      "24 False\n",
      "key       :                          1 11 0100 1   11"
     ]
    }
   ],
   "source": [
    "circuits = create_circuits(NUMBER_OF_CIRCUITS, DOES_EVE_EXIST)\n",
    "\n",
    "result = run_the_job(circuits)\n",
    "\n",
    "print_alice_bits(circuits)\n",
    "\n",
    "print_bob_bits(circuits, result)\n",
    "\n",
    "number_of_agreements = print_had_agreements(circuits)\n",
    "\n",
    "how_many_for_testing, is_eve_detected = print_bit_agreements(circuits, result, number_of_agreements)\n",
    "\n",
    "print(how_many_for_testing, is_eve_detected)\n",
    "\n",
    "if is_eve_detected:\n",
    "    print('INTRUDER ALERT!')\n",
    "else:\n",
    "    print_key(circuits, NUMBER_OF_CIRCUITS, how_many_for_testing)"
   ]
  }
 ],
 "metadata": {
  "kernelspec": {
   "display_name": "qiskit_env",
   "language": "python",
   "name": "python3"
  },
  "language_info": {
   "codemirror_mode": {
    "name": "ipython",
    "version": 3
   },
   "file_extension": ".py",
   "mimetype": "text/x-python",
   "name": "python",
   "nbconvert_exporter": "python",
   "pygments_lexer": "ipython3",
   "version": "3.12.3"
  }
 },
 "nbformat": 4,
 "nbformat_minor": 2
}
